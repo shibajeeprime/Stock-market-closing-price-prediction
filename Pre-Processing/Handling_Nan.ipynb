{
  "nbformat": 4,
  "nbformat_minor": 0,
  "metadata": {
    "colab": {
      "name": "Handling Nan.ipynb",
      "provenance": []
    },
    "kernelspec": {
      "name": "python3",
      "display_name": "Python 3"
    },
    "language_info": {
      "name": "python"
    }
  },
  "cells": [
    {
      "cell_type": "code",
      "execution_count": null,
      "metadata": {
        "id": "UEbZT3Gm3epB"
      },
      "outputs": [],
      "source": [
        "import pandas as pd\n",
        "import numpy as np"
      ]
    },
    {
      "cell_type": "code",
      "source": [
        "data=pd.read_csv(\"/content/Ind_Exp_Nifty_merged.csv\"); data"
      ],
      "metadata": {
        "colab": {
          "base_uri": "https://localhost:8080/",
          "height": 424
        },
        "id": "WW4cKizo3wVV",
        "outputId": "6669b3ae-c528-41b2-aaeb-eb88cec66363"
      },
      "execution_count": null,
      "outputs": [
        {
          "output_type": "execute_result",
          "data": {
            "text/plain": [
              "      Unnamed: 0        Date      Open      High       Low     Close  \\\n",
              "0              0  2022-05-06  34569.10  34797.95  34353.20  34591.20   \n",
              "1              1  2022-05-05  35705.35  35934.85  35133.80  35232.85   \n",
              "2              2  2022-05-04  36266.15  36309.30  35127.85  35264.55   \n",
              "3              3  2022-05-02  35627.60  36235.25  35618.20  36163.75   \n",
              "4              4  2022-04-29  36474.05  36718.80  35978.95  36088.15   \n",
              "...          ...         ...       ...       ...       ...       ...   \n",
              "3299        3299  2009-01-07   5416.35   5440.55   4954.00   4984.50   \n",
              "3300        3300  2009-01-06   5333.50   5448.80   5276.40   5395.30   \n",
              "3301        3301  2009-01-05   5273.45   5371.10   5273.45   5359.40   \n",
              "3302        3302  2009-01-02   5154.20   5258.65   5103.60   5195.10   \n",
              "3303        3303  2009-01-01   5019.20   5135.15   5019.20   5116.50   \n",
              "\n",
              "                                              Headlines  \\\n",
              "0                                                   NaN   \n",
              "1            ‘Rate cycle U-turn: RBI may go for more’.    \n",
              "2     RBI raises CRR by 50 bps to 4.5% from May 21. ...   \n",
              "3     Bank holidays in May 2022: Here is the list of...   \n",
              "4     To plug support package loopholes, Nabard plan...   \n",
              "...                                                 ...   \n",
              "3299                                                NaN   \n",
              "3300                                                NaN   \n",
              "3301                                                NaN   \n",
              "3302                                                NaN   \n",
              "3303                                                NaN   \n",
              "\n",
              "                                       Sentiment  \n",
              "0                                            NaN  \n",
              "1       [0.9999913, 1.1432373e-06, 7.482723e-06]  \n",
              "2     [0.99954671, 0.00041552441, 3.7765163e-05]  \n",
              "3     [0.99998772, 6.8683225e-06, 5.3801709e-06]  \n",
              "4     [0.99999213, 5.6305475e-07, 7.2760436e-06]  \n",
              "...                                          ...  \n",
              "3299                                         NaN  \n",
              "3300                                         NaN  \n",
              "3301                                         NaN  \n",
              "3302                                         NaN  \n",
              "3303                                         NaN  \n",
              "\n",
              "[3304 rows x 8 columns]"
            ],
            "text/html": [
              "\n",
              "  <div id=\"df-e75210b1-eb91-4791-896e-1e876694ac91\">\n",
              "    <div class=\"colab-df-container\">\n",
              "      <div>\n",
              "<style scoped>\n",
              "    .dataframe tbody tr th:only-of-type {\n",
              "        vertical-align: middle;\n",
              "    }\n",
              "\n",
              "    .dataframe tbody tr th {\n",
              "        vertical-align: top;\n",
              "    }\n",
              "\n",
              "    .dataframe thead th {\n",
              "        text-align: right;\n",
              "    }\n",
              "</style>\n",
              "<table border=\"1\" class=\"dataframe\">\n",
              "  <thead>\n",
              "    <tr style=\"text-align: right;\">\n",
              "      <th></th>\n",
              "      <th>Unnamed: 0</th>\n",
              "      <th>Date</th>\n",
              "      <th>Open</th>\n",
              "      <th>High</th>\n",
              "      <th>Low</th>\n",
              "      <th>Close</th>\n",
              "      <th>Headlines</th>\n",
              "      <th>Sentiment</th>\n",
              "    </tr>\n",
              "  </thead>\n",
              "  <tbody>\n",
              "    <tr>\n",
              "      <th>0</th>\n",
              "      <td>0</td>\n",
              "      <td>2022-05-06</td>\n",
              "      <td>34569.10</td>\n",
              "      <td>34797.95</td>\n",
              "      <td>34353.20</td>\n",
              "      <td>34591.20</td>\n",
              "      <td>NaN</td>\n",
              "      <td>NaN</td>\n",
              "    </tr>\n",
              "    <tr>\n",
              "      <th>1</th>\n",
              "      <td>1</td>\n",
              "      <td>2022-05-05</td>\n",
              "      <td>35705.35</td>\n",
              "      <td>35934.85</td>\n",
              "      <td>35133.80</td>\n",
              "      <td>35232.85</td>\n",
              "      <td>‘Rate cycle U-turn: RBI may go for more’.</td>\n",
              "      <td>[0.9999913, 1.1432373e-06, 7.482723e-06]</td>\n",
              "    </tr>\n",
              "    <tr>\n",
              "      <th>2</th>\n",
              "      <td>2</td>\n",
              "      <td>2022-05-04</td>\n",
              "      <td>36266.15</td>\n",
              "      <td>36309.30</td>\n",
              "      <td>35127.85</td>\n",
              "      <td>35264.55</td>\n",
              "      <td>RBI raises CRR by 50 bps to 4.5% from May 21. ...</td>\n",
              "      <td>[0.99954671, 0.00041552441, 3.7765163e-05]</td>\n",
              "    </tr>\n",
              "    <tr>\n",
              "      <th>3</th>\n",
              "      <td>3</td>\n",
              "      <td>2022-05-02</td>\n",
              "      <td>35627.60</td>\n",
              "      <td>36235.25</td>\n",
              "      <td>35618.20</td>\n",
              "      <td>36163.75</td>\n",
              "      <td>Bank holidays in May 2022: Here is the list of...</td>\n",
              "      <td>[0.99998772, 6.8683225e-06, 5.3801709e-06]</td>\n",
              "    </tr>\n",
              "    <tr>\n",
              "      <th>4</th>\n",
              "      <td>4</td>\n",
              "      <td>2022-04-29</td>\n",
              "      <td>36474.05</td>\n",
              "      <td>36718.80</td>\n",
              "      <td>35978.95</td>\n",
              "      <td>36088.15</td>\n",
              "      <td>To plug support package loopholes, Nabard plan...</td>\n",
              "      <td>[0.99999213, 5.6305475e-07, 7.2760436e-06]</td>\n",
              "    </tr>\n",
              "    <tr>\n",
              "      <th>...</th>\n",
              "      <td>...</td>\n",
              "      <td>...</td>\n",
              "      <td>...</td>\n",
              "      <td>...</td>\n",
              "      <td>...</td>\n",
              "      <td>...</td>\n",
              "      <td>...</td>\n",
              "      <td>...</td>\n",
              "    </tr>\n",
              "    <tr>\n",
              "      <th>3299</th>\n",
              "      <td>3299</td>\n",
              "      <td>2009-01-07</td>\n",
              "      <td>5416.35</td>\n",
              "      <td>5440.55</td>\n",
              "      <td>4954.00</td>\n",
              "      <td>4984.50</td>\n",
              "      <td>NaN</td>\n",
              "      <td>NaN</td>\n",
              "    </tr>\n",
              "    <tr>\n",
              "      <th>3300</th>\n",
              "      <td>3300</td>\n",
              "      <td>2009-01-06</td>\n",
              "      <td>5333.50</td>\n",
              "      <td>5448.80</td>\n",
              "      <td>5276.40</td>\n",
              "      <td>5395.30</td>\n",
              "      <td>NaN</td>\n",
              "      <td>NaN</td>\n",
              "    </tr>\n",
              "    <tr>\n",
              "      <th>3301</th>\n",
              "      <td>3301</td>\n",
              "      <td>2009-01-05</td>\n",
              "      <td>5273.45</td>\n",
              "      <td>5371.10</td>\n",
              "      <td>5273.45</td>\n",
              "      <td>5359.40</td>\n",
              "      <td>NaN</td>\n",
              "      <td>NaN</td>\n",
              "    </tr>\n",
              "    <tr>\n",
              "      <th>3302</th>\n",
              "      <td>3302</td>\n",
              "      <td>2009-01-02</td>\n",
              "      <td>5154.20</td>\n",
              "      <td>5258.65</td>\n",
              "      <td>5103.60</td>\n",
              "      <td>5195.10</td>\n",
              "      <td>NaN</td>\n",
              "      <td>NaN</td>\n",
              "    </tr>\n",
              "    <tr>\n",
              "      <th>3303</th>\n",
              "      <td>3303</td>\n",
              "      <td>2009-01-01</td>\n",
              "      <td>5019.20</td>\n",
              "      <td>5135.15</td>\n",
              "      <td>5019.20</td>\n",
              "      <td>5116.50</td>\n",
              "      <td>NaN</td>\n",
              "      <td>NaN</td>\n",
              "    </tr>\n",
              "  </tbody>\n",
              "</table>\n",
              "<p>3304 rows × 8 columns</p>\n",
              "</div>\n",
              "      <button class=\"colab-df-convert\" onclick=\"convertToInteractive('df-e75210b1-eb91-4791-896e-1e876694ac91')\"\n",
              "              title=\"Convert this dataframe to an interactive table.\"\n",
              "              style=\"display:none;\">\n",
              "        \n",
              "  <svg xmlns=\"http://www.w3.org/2000/svg\" height=\"24px\"viewBox=\"0 0 24 24\"\n",
              "       width=\"24px\">\n",
              "    <path d=\"M0 0h24v24H0V0z\" fill=\"none\"/>\n",
              "    <path d=\"M18.56 5.44l.94 2.06.94-2.06 2.06-.94-2.06-.94-.94-2.06-.94 2.06-2.06.94zm-11 1L8.5 8.5l.94-2.06 2.06-.94-2.06-.94L8.5 2.5l-.94 2.06-2.06.94zm10 10l.94 2.06.94-2.06 2.06-.94-2.06-.94-.94-2.06-.94 2.06-2.06.94z\"/><path d=\"M17.41 7.96l-1.37-1.37c-.4-.4-.92-.59-1.43-.59-.52 0-1.04.2-1.43.59L10.3 9.45l-7.72 7.72c-.78.78-.78 2.05 0 2.83L4 21.41c.39.39.9.59 1.41.59.51 0 1.02-.2 1.41-.59l7.78-7.78 2.81-2.81c.8-.78.8-2.07 0-2.86zM5.41 20L4 18.59l7.72-7.72 1.47 1.35L5.41 20z\"/>\n",
              "  </svg>\n",
              "      </button>\n",
              "      \n",
              "  <style>\n",
              "    .colab-df-container {\n",
              "      display:flex;\n",
              "      flex-wrap:wrap;\n",
              "      gap: 12px;\n",
              "    }\n",
              "\n",
              "    .colab-df-convert {\n",
              "      background-color: #E8F0FE;\n",
              "      border: none;\n",
              "      border-radius: 50%;\n",
              "      cursor: pointer;\n",
              "      display: none;\n",
              "      fill: #1967D2;\n",
              "      height: 32px;\n",
              "      padding: 0 0 0 0;\n",
              "      width: 32px;\n",
              "    }\n",
              "\n",
              "    .colab-df-convert:hover {\n",
              "      background-color: #E2EBFA;\n",
              "      box-shadow: 0px 1px 2px rgba(60, 64, 67, 0.3), 0px 1px 3px 1px rgba(60, 64, 67, 0.15);\n",
              "      fill: #174EA6;\n",
              "    }\n",
              "\n",
              "    [theme=dark] .colab-df-convert {\n",
              "      background-color: #3B4455;\n",
              "      fill: #D2E3FC;\n",
              "    }\n",
              "\n",
              "    [theme=dark] .colab-df-convert:hover {\n",
              "      background-color: #434B5C;\n",
              "      box-shadow: 0px 1px 3px 1px rgba(0, 0, 0, 0.15);\n",
              "      filter: drop-shadow(0px 1px 2px rgba(0, 0, 0, 0.3));\n",
              "      fill: #FFFFFF;\n",
              "    }\n",
              "  </style>\n",
              "\n",
              "      <script>\n",
              "        const buttonEl =\n",
              "          document.querySelector('#df-e75210b1-eb91-4791-896e-1e876694ac91 button.colab-df-convert');\n",
              "        buttonEl.style.display =\n",
              "          google.colab.kernel.accessAllowed ? 'block' : 'none';\n",
              "\n",
              "        async function convertToInteractive(key) {\n",
              "          const element = document.querySelector('#df-e75210b1-eb91-4791-896e-1e876694ac91');\n",
              "          const dataTable =\n",
              "            await google.colab.kernel.invokeFunction('convertToInteractive',\n",
              "                                                     [key], {});\n",
              "          if (!dataTable) return;\n",
              "\n",
              "          const docLinkHtml = 'Like what you see? Visit the ' +\n",
              "            '<a target=\"_blank\" href=https://colab.research.google.com/notebooks/data_table.ipynb>data table notebook</a>'\n",
              "            + ' to learn more about interactive tables.';\n",
              "          element.innerHTML = '';\n",
              "          dataTable['output_type'] = 'display_data';\n",
              "          await google.colab.output.renderOutput(dataTable, element);\n",
              "          const docLink = document.createElement('div');\n",
              "          docLink.innerHTML = docLinkHtml;\n",
              "          element.appendChild(docLink);\n",
              "        }\n",
              "      </script>\n",
              "    </div>\n",
              "  </div>\n",
              "  "
            ]
          },
          "metadata": {},
          "execution_count": 120
        }
      ]
    },
    {
      "cell_type": "code",
      "source": [
        "data=data.drop(data.columns[0],axis=1);data"
      ],
      "metadata": {
        "colab": {
          "base_uri": "https://localhost:8080/",
          "height": 424
        },
        "id": "4HoJfa17370C",
        "outputId": "5a054f4f-51c3-4596-e70c-c19f4c8143a7"
      },
      "execution_count": null,
      "outputs": [
        {
          "output_type": "execute_result",
          "data": {
            "text/plain": [
              "            Date      Open      High       Low     Close  \\\n",
              "0     2022-05-06  34569.10  34797.95  34353.20  34591.20   \n",
              "1     2022-05-05  35705.35  35934.85  35133.80  35232.85   \n",
              "2     2022-05-04  36266.15  36309.30  35127.85  35264.55   \n",
              "3     2022-05-02  35627.60  36235.25  35618.20  36163.75   \n",
              "4     2022-04-29  36474.05  36718.80  35978.95  36088.15   \n",
              "...          ...       ...       ...       ...       ...   \n",
              "3299  2009-01-07   5416.35   5440.55   4954.00   4984.50   \n",
              "3300  2009-01-06   5333.50   5448.80   5276.40   5395.30   \n",
              "3301  2009-01-05   5273.45   5371.10   5273.45   5359.40   \n",
              "3302  2009-01-02   5154.20   5258.65   5103.60   5195.10   \n",
              "3303  2009-01-01   5019.20   5135.15   5019.20   5116.50   \n",
              "\n",
              "                                              Headlines  \\\n",
              "0                                                   NaN   \n",
              "1            ‘Rate cycle U-turn: RBI may go for more’.    \n",
              "2     RBI raises CRR by 50 bps to 4.5% from May 21. ...   \n",
              "3     Bank holidays in May 2022: Here is the list of...   \n",
              "4     To plug support package loopholes, Nabard plan...   \n",
              "...                                                 ...   \n",
              "3299                                                NaN   \n",
              "3300                                                NaN   \n",
              "3301                                                NaN   \n",
              "3302                                                NaN   \n",
              "3303                                                NaN   \n",
              "\n",
              "                                       Sentiment  \n",
              "0                                            NaN  \n",
              "1       [0.9999913, 1.1432373e-06, 7.482723e-06]  \n",
              "2     [0.99954671, 0.00041552441, 3.7765163e-05]  \n",
              "3     [0.99998772, 6.8683225e-06, 5.3801709e-06]  \n",
              "4     [0.99999213, 5.6305475e-07, 7.2760436e-06]  \n",
              "...                                          ...  \n",
              "3299                                         NaN  \n",
              "3300                                         NaN  \n",
              "3301                                         NaN  \n",
              "3302                                         NaN  \n",
              "3303                                         NaN  \n",
              "\n",
              "[3304 rows x 7 columns]"
            ],
            "text/html": [
              "\n",
              "  <div id=\"df-195b168b-8840-4294-bf3b-73e16f5b6838\">\n",
              "    <div class=\"colab-df-container\">\n",
              "      <div>\n",
              "<style scoped>\n",
              "    .dataframe tbody tr th:only-of-type {\n",
              "        vertical-align: middle;\n",
              "    }\n",
              "\n",
              "    .dataframe tbody tr th {\n",
              "        vertical-align: top;\n",
              "    }\n",
              "\n",
              "    .dataframe thead th {\n",
              "        text-align: right;\n",
              "    }\n",
              "</style>\n",
              "<table border=\"1\" class=\"dataframe\">\n",
              "  <thead>\n",
              "    <tr style=\"text-align: right;\">\n",
              "      <th></th>\n",
              "      <th>Date</th>\n",
              "      <th>Open</th>\n",
              "      <th>High</th>\n",
              "      <th>Low</th>\n",
              "      <th>Close</th>\n",
              "      <th>Headlines</th>\n",
              "      <th>Sentiment</th>\n",
              "    </tr>\n",
              "  </thead>\n",
              "  <tbody>\n",
              "    <tr>\n",
              "      <th>0</th>\n",
              "      <td>2022-05-06</td>\n",
              "      <td>34569.10</td>\n",
              "      <td>34797.95</td>\n",
              "      <td>34353.20</td>\n",
              "      <td>34591.20</td>\n",
              "      <td>NaN</td>\n",
              "      <td>NaN</td>\n",
              "    </tr>\n",
              "    <tr>\n",
              "      <th>1</th>\n",
              "      <td>2022-05-05</td>\n",
              "      <td>35705.35</td>\n",
              "      <td>35934.85</td>\n",
              "      <td>35133.80</td>\n",
              "      <td>35232.85</td>\n",
              "      <td>‘Rate cycle U-turn: RBI may go for more’.</td>\n",
              "      <td>[0.9999913, 1.1432373e-06, 7.482723e-06]</td>\n",
              "    </tr>\n",
              "    <tr>\n",
              "      <th>2</th>\n",
              "      <td>2022-05-04</td>\n",
              "      <td>36266.15</td>\n",
              "      <td>36309.30</td>\n",
              "      <td>35127.85</td>\n",
              "      <td>35264.55</td>\n",
              "      <td>RBI raises CRR by 50 bps to 4.5% from May 21. ...</td>\n",
              "      <td>[0.99954671, 0.00041552441, 3.7765163e-05]</td>\n",
              "    </tr>\n",
              "    <tr>\n",
              "      <th>3</th>\n",
              "      <td>2022-05-02</td>\n",
              "      <td>35627.60</td>\n",
              "      <td>36235.25</td>\n",
              "      <td>35618.20</td>\n",
              "      <td>36163.75</td>\n",
              "      <td>Bank holidays in May 2022: Here is the list of...</td>\n",
              "      <td>[0.99998772, 6.8683225e-06, 5.3801709e-06]</td>\n",
              "    </tr>\n",
              "    <tr>\n",
              "      <th>4</th>\n",
              "      <td>2022-04-29</td>\n",
              "      <td>36474.05</td>\n",
              "      <td>36718.80</td>\n",
              "      <td>35978.95</td>\n",
              "      <td>36088.15</td>\n",
              "      <td>To plug support package loopholes, Nabard plan...</td>\n",
              "      <td>[0.99999213, 5.6305475e-07, 7.2760436e-06]</td>\n",
              "    </tr>\n",
              "    <tr>\n",
              "      <th>...</th>\n",
              "      <td>...</td>\n",
              "      <td>...</td>\n",
              "      <td>...</td>\n",
              "      <td>...</td>\n",
              "      <td>...</td>\n",
              "      <td>...</td>\n",
              "      <td>...</td>\n",
              "    </tr>\n",
              "    <tr>\n",
              "      <th>3299</th>\n",
              "      <td>2009-01-07</td>\n",
              "      <td>5416.35</td>\n",
              "      <td>5440.55</td>\n",
              "      <td>4954.00</td>\n",
              "      <td>4984.50</td>\n",
              "      <td>NaN</td>\n",
              "      <td>NaN</td>\n",
              "    </tr>\n",
              "    <tr>\n",
              "      <th>3300</th>\n",
              "      <td>2009-01-06</td>\n",
              "      <td>5333.50</td>\n",
              "      <td>5448.80</td>\n",
              "      <td>5276.40</td>\n",
              "      <td>5395.30</td>\n",
              "      <td>NaN</td>\n",
              "      <td>NaN</td>\n",
              "    </tr>\n",
              "    <tr>\n",
              "      <th>3301</th>\n",
              "      <td>2009-01-05</td>\n",
              "      <td>5273.45</td>\n",
              "      <td>5371.10</td>\n",
              "      <td>5273.45</td>\n",
              "      <td>5359.40</td>\n",
              "      <td>NaN</td>\n",
              "      <td>NaN</td>\n",
              "    </tr>\n",
              "    <tr>\n",
              "      <th>3302</th>\n",
              "      <td>2009-01-02</td>\n",
              "      <td>5154.20</td>\n",
              "      <td>5258.65</td>\n",
              "      <td>5103.60</td>\n",
              "      <td>5195.10</td>\n",
              "      <td>NaN</td>\n",
              "      <td>NaN</td>\n",
              "    </tr>\n",
              "    <tr>\n",
              "      <th>3303</th>\n",
              "      <td>2009-01-01</td>\n",
              "      <td>5019.20</td>\n",
              "      <td>5135.15</td>\n",
              "      <td>5019.20</td>\n",
              "      <td>5116.50</td>\n",
              "      <td>NaN</td>\n",
              "      <td>NaN</td>\n",
              "    </tr>\n",
              "  </tbody>\n",
              "</table>\n",
              "<p>3304 rows × 7 columns</p>\n",
              "</div>\n",
              "      <button class=\"colab-df-convert\" onclick=\"convertToInteractive('df-195b168b-8840-4294-bf3b-73e16f5b6838')\"\n",
              "              title=\"Convert this dataframe to an interactive table.\"\n",
              "              style=\"display:none;\">\n",
              "        \n",
              "  <svg xmlns=\"http://www.w3.org/2000/svg\" height=\"24px\"viewBox=\"0 0 24 24\"\n",
              "       width=\"24px\">\n",
              "    <path d=\"M0 0h24v24H0V0z\" fill=\"none\"/>\n",
              "    <path d=\"M18.56 5.44l.94 2.06.94-2.06 2.06-.94-2.06-.94-.94-2.06-.94 2.06-2.06.94zm-11 1L8.5 8.5l.94-2.06 2.06-.94-2.06-.94L8.5 2.5l-.94 2.06-2.06.94zm10 10l.94 2.06.94-2.06 2.06-.94-2.06-.94-.94-2.06-.94 2.06-2.06.94z\"/><path d=\"M17.41 7.96l-1.37-1.37c-.4-.4-.92-.59-1.43-.59-.52 0-1.04.2-1.43.59L10.3 9.45l-7.72 7.72c-.78.78-.78 2.05 0 2.83L4 21.41c.39.39.9.59 1.41.59.51 0 1.02-.2 1.41-.59l7.78-7.78 2.81-2.81c.8-.78.8-2.07 0-2.86zM5.41 20L4 18.59l7.72-7.72 1.47 1.35L5.41 20z\"/>\n",
              "  </svg>\n",
              "      </button>\n",
              "      \n",
              "  <style>\n",
              "    .colab-df-container {\n",
              "      display:flex;\n",
              "      flex-wrap:wrap;\n",
              "      gap: 12px;\n",
              "    }\n",
              "\n",
              "    .colab-df-convert {\n",
              "      background-color: #E8F0FE;\n",
              "      border: none;\n",
              "      border-radius: 50%;\n",
              "      cursor: pointer;\n",
              "      display: none;\n",
              "      fill: #1967D2;\n",
              "      height: 32px;\n",
              "      padding: 0 0 0 0;\n",
              "      width: 32px;\n",
              "    }\n",
              "\n",
              "    .colab-df-convert:hover {\n",
              "      background-color: #E2EBFA;\n",
              "      box-shadow: 0px 1px 2px rgba(60, 64, 67, 0.3), 0px 1px 3px 1px rgba(60, 64, 67, 0.15);\n",
              "      fill: #174EA6;\n",
              "    }\n",
              "\n",
              "    [theme=dark] .colab-df-convert {\n",
              "      background-color: #3B4455;\n",
              "      fill: #D2E3FC;\n",
              "    }\n",
              "\n",
              "    [theme=dark] .colab-df-convert:hover {\n",
              "      background-color: #434B5C;\n",
              "      box-shadow: 0px 1px 3px 1px rgba(0, 0, 0, 0.15);\n",
              "      filter: drop-shadow(0px 1px 2px rgba(0, 0, 0, 0.3));\n",
              "      fill: #FFFFFF;\n",
              "    }\n",
              "  </style>\n",
              "\n",
              "      <script>\n",
              "        const buttonEl =\n",
              "          document.querySelector('#df-195b168b-8840-4294-bf3b-73e16f5b6838 button.colab-df-convert');\n",
              "        buttonEl.style.display =\n",
              "          google.colab.kernel.accessAllowed ? 'block' : 'none';\n",
              "\n",
              "        async function convertToInteractive(key) {\n",
              "          const element = document.querySelector('#df-195b168b-8840-4294-bf3b-73e16f5b6838');\n",
              "          const dataTable =\n",
              "            await google.colab.kernel.invokeFunction('convertToInteractive',\n",
              "                                                     [key], {});\n",
              "          if (!dataTable) return;\n",
              "\n",
              "          const docLinkHtml = 'Like what you see? Visit the ' +\n",
              "            '<a target=\"_blank\" href=https://colab.research.google.com/notebooks/data_table.ipynb>data table notebook</a>'\n",
              "            + ' to learn more about interactive tables.';\n",
              "          element.innerHTML = '';\n",
              "          dataTable['output_type'] = 'display_data';\n",
              "          await google.colab.output.renderOutput(dataTable, element);\n",
              "          const docLink = document.createElement('div');\n",
              "          docLink.innerHTML = docLinkHtml;\n",
              "          element.appendChild(docLink);\n",
              "        }\n",
              "      </script>\n",
              "    </div>\n",
              "  </div>\n",
              "  "
            ]
          },
          "metadata": {},
          "execution_count": 121
        }
      ]
    },
    {
      "cell_type": "code",
      "source": [
        "S=data['Sentiment'];S"
      ],
      "metadata": {
        "colab": {
          "base_uri": "https://localhost:8080/"
        },
        "id": "WSEuutN48eh8",
        "outputId": "2d0806a6-aae6-4df9-e531-7b81c8a2ffcf"
      },
      "execution_count": null,
      "outputs": [
        {
          "output_type": "execute_result",
          "data": {
            "text/plain": [
              "0                                              NaN\n",
              "1         [0.9999913, 1.1432373e-06, 7.482723e-06]\n",
              "2       [0.99954671, 0.00041552441, 3.7765163e-05]\n",
              "3       [0.99998772, 6.8683225e-06, 5.3801709e-06]\n",
              "4       [0.99999213, 5.6305475e-07, 7.2760436e-06]\n",
              "                           ...                    \n",
              "3299                                           NaN\n",
              "3300                                           NaN\n",
              "3301                                           NaN\n",
              "3302                                           NaN\n",
              "3303                                           NaN\n",
              "Name: Sentiment, Length: 3304, dtype: object"
            ]
          },
          "metadata": {},
          "execution_count": 122
        }
      ]
    },
    {
      "cell_type": "code",
      "source": [
        "S[1]"
      ],
      "metadata": {
        "colab": {
          "base_uri": "https://localhost:8080/",
          "height": 36
        },
        "id": "X3gFskprGy_Q",
        "outputId": "67e9c17b-617b-4004-bde6-678c98872a18"
      },
      "execution_count": null,
      "outputs": [
        {
          "output_type": "execute_result",
          "data": {
            "text/plain": [
              "'[0.9999913, 1.1432373e-06, 7.482723e-06]'"
            ],
            "application/vnd.google.colaboratory.intrinsic+json": {
              "type": "string"
            }
          },
          "metadata": {},
          "execution_count": 123
        }
      ]
    },
    {
      "cell_type": "code",
      "source": [
        "for  j in range(len(S)):\n",
        "  if S.isna()[j]==False:\n",
        "    s=S[j].replace('[','').replace(',','').replace(']','').split()\n",
        "    for i in range(len(s)):\n",
        "      s[i]=float(s[i])\n",
        "    S[j]=s\n"
      ],
      "metadata": {
        "colab": {
          "base_uri": "https://localhost:8080/"
        },
        "id": "aqgMeEWwBSxl",
        "outputId": "5397f21f-f563-42b1-8258-8f1d878cc88b"
      },
      "execution_count": null,
      "outputs": [
        {
          "output_type": "stream",
          "name": "stderr",
          "text": [
            "/usr/local/lib/python3.7/dist-packages/ipykernel_launcher.py:6: SettingWithCopyWarning: \n",
            "A value is trying to be set on a copy of a slice from a DataFrame\n",
            "\n",
            "See the caveats in the documentation: https://pandas.pydata.org/pandas-docs/stable/user_guide/indexing.html#returning-a-view-versus-a-copy\n",
            "  \n"
          ]
        }
      ]
    },
    {
      "cell_type": "code",
      "source": [
        "for j in range(len(S)):\n",
        "  if S.isna()[j]==False:\n",
        "    s=np.array(S[j])\n",
        "    S[j]=s"
      ],
      "metadata": {
        "colab": {
          "base_uri": "https://localhost:8080/"
        },
        "id": "ERxzbJxRCyZH",
        "outputId": "9a0fd722-7c46-4b0e-d653-1ca5c4b41eed"
      },
      "execution_count": null,
      "outputs": [
        {
          "output_type": "stream",
          "name": "stderr",
          "text": [
            "/usr/local/lib/python3.7/dist-packages/ipykernel_launcher.py:4: SettingWithCopyWarning: \n",
            "A value is trying to be set on a copy of a slice from a DataFrame\n",
            "\n",
            "See the caveats in the documentation: https://pandas.pydata.org/pandas-docs/stable/user_guide/indexing.html#returning-a-view-versus-a-copy\n",
            "  after removing the cwd from sys.path.\n"
          ]
        }
      ]
    },
    {
      "cell_type": "code",
      "source": [
        "for j in range(len(S)):\n",
        "  if S.isna()[j]==True:\n",
        "    S[j]=np.NaN"
      ],
      "metadata": {
        "colab": {
          "base_uri": "https://localhost:8080/"
        },
        "id": "oUfT4Yz-8txQ",
        "outputId": "eeea4c3a-953e-4a65-fe02-c6623446b182"
      },
      "execution_count": null,
      "outputs": [
        {
          "output_type": "stream",
          "name": "stderr",
          "text": [
            "/usr/local/lib/python3.7/dist-packages/ipykernel_launcher.py:3: SettingWithCopyWarning: \n",
            "A value is trying to be set on a copy of a slice from a DataFrame\n",
            "\n",
            "See the caveats in the documentation: https://pandas.pydata.org/pandas-docs/stable/user_guide/indexing.html#returning-a-view-versus-a-copy\n",
            "  This is separate from the ipykernel package so we can avoid doing imports until\n"
          ]
        }
      ]
    },
    {
      "cell_type": "code",
      "source": [
        "np.mean(S[0:7])"
      ],
      "metadata": {
        "colab": {
          "base_uri": "https://localhost:8080/"
        },
        "id": "SYL_HrI68xg3",
        "outputId": "55e97abb-d1aa-4c38-a23a-fd0d63330323"
      },
      "execution_count": null,
      "outputs": [
        {
          "output_type": "execute_result",
          "data": {
            "text/plain": [
              "array([9.98220980e-01, 1.76668126e-03, 1.23147655e-05])"
            ]
          },
          "metadata": {},
          "execution_count": 127
        }
      ]
    },
    {
      "cell_type": "code",
      "source": [
        "S.isna()[0]"
      ],
      "metadata": {
        "colab": {
          "base_uri": "https://localhost:8080/"
        },
        "id": "8c7yuxckA-f8",
        "outputId": "156d28a8-557f-41ca-ae88-a9539aaf6a06"
      },
      "execution_count": null,
      "outputs": [
        {
          "output_type": "execute_result",
          "data": {
            "text/plain": [
              "True"
            ]
          },
          "metadata": {},
          "execution_count": 128
        }
      ]
    },
    {
      "cell_type": "code",
      "source": [
        "df=S[0:7]; df"
      ],
      "metadata": {
        "colab": {
          "base_uri": "https://localhost:8080/"
        },
        "id": "LL4Vp4hy_CB2",
        "outputId": "5e0cfc27-ab0a-4dca-8275-1eb7358d2bcf"
      },
      "execution_count": null,
      "outputs": [
        {
          "output_type": "execute_result",
          "data": {
            "text/plain": [
              "0                                           NaN\n",
              "1      [0.9999913, 1.1432373e-06, 7.482723e-06]\n",
              "2    [0.99954671, 0.00041552441, 3.7765163e-05]\n",
              "3    [0.99998772, 6.8683225e-06, 5.3801709e-06]\n",
              "4    [0.99999213, 5.6305475e-07, 7.2760436e-06]\n",
              "5     [0.99158704, 0.0084093073, 3.6697272e-06]\n",
              "6                                           NaN\n",
              "Name: Sentiment, dtype: object"
            ]
          },
          "metadata": {},
          "execution_count": 129
        }
      ]
    },
    {
      "cell_type": "code",
      "source": [
        "df=[np.mean(df) if i is np.NaN else i for i in df]; df"
      ],
      "metadata": {
        "colab": {
          "base_uri": "https://localhost:8080/"
        },
        "id": "ivrwEVb3_Fc4",
        "outputId": "3f20cb73-0386-4e4d-c745-8169fb411311"
      },
      "execution_count": null,
      "outputs": [
        {
          "output_type": "execute_result",
          "data": {
            "text/plain": [
              "[array([9.98220980e-01, 1.76668126e-03, 1.23147655e-05]),\n",
              " array([9.9999130e-01, 1.1432373e-06, 7.4827230e-06]),\n",
              " array([9.9954671e-01, 4.1552441e-04, 3.7765163e-05]),\n",
              " array([9.9998772e-01, 6.8683225e-06, 5.3801709e-06]),\n",
              " array([9.9999213e-01, 5.6305475e-07, 7.2760436e-06]),\n",
              " array([9.9158704e-01, 8.4093073e-03, 3.6697272e-06]),\n",
              " array([9.98220980e-01, 1.76668126e-03, 1.23147655e-05])]"
            ]
          },
          "metadata": {},
          "execution_count": 130
        }
      ]
    },
    {
      "cell_type": "code",
      "source": [
        "S[0:7]=df"
      ],
      "metadata": {
        "colab": {
          "base_uri": "https://localhost:8080/"
        },
        "id": "PZoGiryCMjVY",
        "outputId": "2efaccd8-ed38-4943-a3c6-baa312cd9c79"
      },
      "execution_count": null,
      "outputs": [
        {
          "output_type": "stream",
          "name": "stderr",
          "text": [
            "/usr/local/lib/python3.7/dist-packages/ipykernel_launcher.py:1: SettingWithCopyWarning: \n",
            "A value is trying to be set on a copy of a slice from a DataFrame\n",
            "\n",
            "See the caveats in the documentation: https://pandas.pydata.org/pandas-docs/stable/user_guide/indexing.html#returning-a-view-versus-a-copy\n",
            "  \"\"\"Entry point for launching an IPython kernel.\n"
          ]
        }
      ]
    },
    {
      "cell_type": "code",
      "source": [
        "S[range(7,len(S))]"
      ],
      "metadata": {
        "colab": {
          "base_uri": "https://localhost:8080/"
        },
        "id": "SZfl6XcMOYDS",
        "outputId": "f05c5cc1-1125-476d-e33b-264ef7cd2562"
      },
      "execution_count": null,
      "outputs": [
        {
          "output_type": "execute_result",
          "data": {
            "text/plain": [
              "7                                              NaN\n",
              "8          [0.11481908, 0.88515502, 2.5873765e-05]\n",
              "9             [0.01240634, 0.98567075, 0.00192289]\n",
              "10      [0.99998987, 2.6581588e-06, 7.4588661e-06]\n",
              "11      [0.99999535, 2.3880739e-06, 2.2547556e-06]\n",
              "                           ...                    \n",
              "3299                                           NaN\n",
              "3300                                           NaN\n",
              "3301                                           NaN\n",
              "3302                                           NaN\n",
              "3303                                           NaN\n",
              "Name: Sentiment, Length: 3297, dtype: object"
            ]
          },
          "metadata": {},
          "execution_count": 141
        }
      ]
    },
    {
      "cell_type": "code",
      "source": [
        "for i in range(7,len(S)):\n",
        "  if S.isna()[i]==True:\n",
        "    S[i]=np.mean(S[i-7:i-1])"
      ],
      "metadata": {
        "colab": {
          "base_uri": "https://localhost:8080/"
        },
        "id": "oLqnp-HEOthj",
        "outputId": "5c323223-e439-4526-8cc1-149996931332"
      },
      "execution_count": null,
      "outputs": [
        {
          "output_type": "stream",
          "name": "stderr",
          "text": [
            "/usr/local/lib/python3.7/dist-packages/ipykernel_launcher.py:3: SettingWithCopyWarning: \n",
            "A value is trying to be set on a copy of a slice from a DataFrame\n",
            "\n",
            "See the caveats in the documentation: https://pandas.pydata.org/pandas-docs/stable/user_guide/indexing.html#returning-a-view-versus-a-copy\n",
            "  This is separate from the ipykernel package so we can avoid doing imports until\n"
          ]
        }
      ]
    },
    {
      "cell_type": "code",
      "source": [
        "S"
      ],
      "metadata": {
        "colab": {
          "base_uri": "https://localhost:8080/"
        },
        "id": "657H3aQ3P3qQ",
        "outputId": "2cf383c0-b943-46b2-ef14-11608c61c9e9"
      },
      "execution_count": null,
      "outputs": [
        {
          "output_type": "execute_result",
          "data": {
            "text/plain": [
              "0       [0.9982209799999999, 0.00176668126491, 1.23147...\n",
              "1                [0.9999913, 1.1432373e-06, 7.482723e-06]\n",
              "2              [0.99954671, 0.00041552441, 3.7765163e-05]\n",
              "3              [0.99998772, 6.8683225e-06, 5.3801709e-06]\n",
              "4              [0.99999213, 5.6305475e-07, 7.2760436e-06]\n",
              "                              ...                        \n",
              "3299    [0.9662993119282969, 0.0011795088525012685, 0....\n",
              "3300    [0.9662992800837604, 0.0011795088624957054, 0....\n",
              "3301    [0.9662994447176895, 0.0011795025161276122, 0....\n",
              "3302    [0.966299540037182, 0.0011794998255569799, 0.0...\n",
              "3303    [0.9662995791893328, 0.0011794987979897708, 0....\n",
              "Name: Sentiment, Length: 3304, dtype: object"
            ]
          },
          "metadata": {},
          "execution_count": 143
        }
      ]
    },
    {
      "cell_type": "code",
      "source": [
        "data['Sentiment']=S"
      ],
      "metadata": {
        "id": "5GQsg6V8P59E"
      },
      "execution_count": null,
      "outputs": []
    },
    {
      "cell_type": "code",
      "source": [
        "data"
      ],
      "metadata": {
        "colab": {
          "base_uri": "https://localhost:8080/",
          "height": 424
        },
        "id": "GvGg528ZQQEI",
        "outputId": "28373f1f-f817-404a-98c3-3ee000da9ef2"
      },
      "execution_count": null,
      "outputs": [
        {
          "output_type": "execute_result",
          "data": {
            "text/plain": [
              "            Date      Open      High       Low     Close  \\\n",
              "0     2022-05-06  34569.10  34797.95  34353.20  34591.20   \n",
              "1     2022-05-05  35705.35  35934.85  35133.80  35232.85   \n",
              "2     2022-05-04  36266.15  36309.30  35127.85  35264.55   \n",
              "3     2022-05-02  35627.60  36235.25  35618.20  36163.75   \n",
              "4     2022-04-29  36474.05  36718.80  35978.95  36088.15   \n",
              "...          ...       ...       ...       ...       ...   \n",
              "3299  2009-01-07   5416.35   5440.55   4954.00   4984.50   \n",
              "3300  2009-01-06   5333.50   5448.80   5276.40   5395.30   \n",
              "3301  2009-01-05   5273.45   5371.10   5273.45   5359.40   \n",
              "3302  2009-01-02   5154.20   5258.65   5103.60   5195.10   \n",
              "3303  2009-01-01   5019.20   5135.15   5019.20   5116.50   \n",
              "\n",
              "                                              Headlines  \\\n",
              "0                                                   NaN   \n",
              "1            ‘Rate cycle U-turn: RBI may go for more’.    \n",
              "2     RBI raises CRR by 50 bps to 4.5% from May 21. ...   \n",
              "3     Bank holidays in May 2022: Here is the list of...   \n",
              "4     To plug support package loopholes, Nabard plan...   \n",
              "...                                                 ...   \n",
              "3299                                                NaN   \n",
              "3300                                                NaN   \n",
              "3301                                                NaN   \n",
              "3302                                                NaN   \n",
              "3303                                                NaN   \n",
              "\n",
              "                                              Sentiment  \n",
              "0     [0.9982209799999999, 0.00176668126491, 1.23147...  \n",
              "1              [0.9999913, 1.1432373e-06, 7.482723e-06]  \n",
              "2            [0.99954671, 0.00041552441, 3.7765163e-05]  \n",
              "3            [0.99998772, 6.8683225e-06, 5.3801709e-06]  \n",
              "4            [0.99999213, 5.6305475e-07, 7.2760436e-06]  \n",
              "...                                                 ...  \n",
              "3299  [0.9662993119282969, 0.0011795088525012685, 0....  \n",
              "3300  [0.9662992800837604, 0.0011795088624957054, 0....  \n",
              "3301  [0.9662994447176895, 0.0011795025161276122, 0....  \n",
              "3302  [0.966299540037182, 0.0011794998255569799, 0.0...  \n",
              "3303  [0.9662995791893328, 0.0011794987979897708, 0....  \n",
              "\n",
              "[3304 rows x 7 columns]"
            ],
            "text/html": [
              "\n",
              "  <div id=\"df-9dbca958-2549-4d67-a7da-683afea78ef6\">\n",
              "    <div class=\"colab-df-container\">\n",
              "      <div>\n",
              "<style scoped>\n",
              "    .dataframe tbody tr th:only-of-type {\n",
              "        vertical-align: middle;\n",
              "    }\n",
              "\n",
              "    .dataframe tbody tr th {\n",
              "        vertical-align: top;\n",
              "    }\n",
              "\n",
              "    .dataframe thead th {\n",
              "        text-align: right;\n",
              "    }\n",
              "</style>\n",
              "<table border=\"1\" class=\"dataframe\">\n",
              "  <thead>\n",
              "    <tr style=\"text-align: right;\">\n",
              "      <th></th>\n",
              "      <th>Date</th>\n",
              "      <th>Open</th>\n",
              "      <th>High</th>\n",
              "      <th>Low</th>\n",
              "      <th>Close</th>\n",
              "      <th>Headlines</th>\n",
              "      <th>Sentiment</th>\n",
              "    </tr>\n",
              "  </thead>\n",
              "  <tbody>\n",
              "    <tr>\n",
              "      <th>0</th>\n",
              "      <td>2022-05-06</td>\n",
              "      <td>34569.10</td>\n",
              "      <td>34797.95</td>\n",
              "      <td>34353.20</td>\n",
              "      <td>34591.20</td>\n",
              "      <td>NaN</td>\n",
              "      <td>[0.9982209799999999, 0.00176668126491, 1.23147...</td>\n",
              "    </tr>\n",
              "    <tr>\n",
              "      <th>1</th>\n",
              "      <td>2022-05-05</td>\n",
              "      <td>35705.35</td>\n",
              "      <td>35934.85</td>\n",
              "      <td>35133.80</td>\n",
              "      <td>35232.85</td>\n",
              "      <td>‘Rate cycle U-turn: RBI may go for more’.</td>\n",
              "      <td>[0.9999913, 1.1432373e-06, 7.482723e-06]</td>\n",
              "    </tr>\n",
              "    <tr>\n",
              "      <th>2</th>\n",
              "      <td>2022-05-04</td>\n",
              "      <td>36266.15</td>\n",
              "      <td>36309.30</td>\n",
              "      <td>35127.85</td>\n",
              "      <td>35264.55</td>\n",
              "      <td>RBI raises CRR by 50 bps to 4.5% from May 21. ...</td>\n",
              "      <td>[0.99954671, 0.00041552441, 3.7765163e-05]</td>\n",
              "    </tr>\n",
              "    <tr>\n",
              "      <th>3</th>\n",
              "      <td>2022-05-02</td>\n",
              "      <td>35627.60</td>\n",
              "      <td>36235.25</td>\n",
              "      <td>35618.20</td>\n",
              "      <td>36163.75</td>\n",
              "      <td>Bank holidays in May 2022: Here is the list of...</td>\n",
              "      <td>[0.99998772, 6.8683225e-06, 5.3801709e-06]</td>\n",
              "    </tr>\n",
              "    <tr>\n",
              "      <th>4</th>\n",
              "      <td>2022-04-29</td>\n",
              "      <td>36474.05</td>\n",
              "      <td>36718.80</td>\n",
              "      <td>35978.95</td>\n",
              "      <td>36088.15</td>\n",
              "      <td>To plug support package loopholes, Nabard plan...</td>\n",
              "      <td>[0.99999213, 5.6305475e-07, 7.2760436e-06]</td>\n",
              "    </tr>\n",
              "    <tr>\n",
              "      <th>...</th>\n",
              "      <td>...</td>\n",
              "      <td>...</td>\n",
              "      <td>...</td>\n",
              "      <td>...</td>\n",
              "      <td>...</td>\n",
              "      <td>...</td>\n",
              "      <td>...</td>\n",
              "    </tr>\n",
              "    <tr>\n",
              "      <th>3299</th>\n",
              "      <td>2009-01-07</td>\n",
              "      <td>5416.35</td>\n",
              "      <td>5440.55</td>\n",
              "      <td>4954.00</td>\n",
              "      <td>4984.50</td>\n",
              "      <td>NaN</td>\n",
              "      <td>[0.9662993119282969, 0.0011795088525012685, 0....</td>\n",
              "    </tr>\n",
              "    <tr>\n",
              "      <th>3300</th>\n",
              "      <td>2009-01-06</td>\n",
              "      <td>5333.50</td>\n",
              "      <td>5448.80</td>\n",
              "      <td>5276.40</td>\n",
              "      <td>5395.30</td>\n",
              "      <td>NaN</td>\n",
              "      <td>[0.9662992800837604, 0.0011795088624957054, 0....</td>\n",
              "    </tr>\n",
              "    <tr>\n",
              "      <th>3301</th>\n",
              "      <td>2009-01-05</td>\n",
              "      <td>5273.45</td>\n",
              "      <td>5371.10</td>\n",
              "      <td>5273.45</td>\n",
              "      <td>5359.40</td>\n",
              "      <td>NaN</td>\n",
              "      <td>[0.9662994447176895, 0.0011795025161276122, 0....</td>\n",
              "    </tr>\n",
              "    <tr>\n",
              "      <th>3302</th>\n",
              "      <td>2009-01-02</td>\n",
              "      <td>5154.20</td>\n",
              "      <td>5258.65</td>\n",
              "      <td>5103.60</td>\n",
              "      <td>5195.10</td>\n",
              "      <td>NaN</td>\n",
              "      <td>[0.966299540037182, 0.0011794998255569799, 0.0...</td>\n",
              "    </tr>\n",
              "    <tr>\n",
              "      <th>3303</th>\n",
              "      <td>2009-01-01</td>\n",
              "      <td>5019.20</td>\n",
              "      <td>5135.15</td>\n",
              "      <td>5019.20</td>\n",
              "      <td>5116.50</td>\n",
              "      <td>NaN</td>\n",
              "      <td>[0.9662995791893328, 0.0011794987979897708, 0....</td>\n",
              "    </tr>\n",
              "  </tbody>\n",
              "</table>\n",
              "<p>3304 rows × 7 columns</p>\n",
              "</div>\n",
              "      <button class=\"colab-df-convert\" onclick=\"convertToInteractive('df-9dbca958-2549-4d67-a7da-683afea78ef6')\"\n",
              "              title=\"Convert this dataframe to an interactive table.\"\n",
              "              style=\"display:none;\">\n",
              "        \n",
              "  <svg xmlns=\"http://www.w3.org/2000/svg\" height=\"24px\"viewBox=\"0 0 24 24\"\n",
              "       width=\"24px\">\n",
              "    <path d=\"M0 0h24v24H0V0z\" fill=\"none\"/>\n",
              "    <path d=\"M18.56 5.44l.94 2.06.94-2.06 2.06-.94-2.06-.94-.94-2.06-.94 2.06-2.06.94zm-11 1L8.5 8.5l.94-2.06 2.06-.94-2.06-.94L8.5 2.5l-.94 2.06-2.06.94zm10 10l.94 2.06.94-2.06 2.06-.94-2.06-.94-.94-2.06-.94 2.06-2.06.94z\"/><path d=\"M17.41 7.96l-1.37-1.37c-.4-.4-.92-.59-1.43-.59-.52 0-1.04.2-1.43.59L10.3 9.45l-7.72 7.72c-.78.78-.78 2.05 0 2.83L4 21.41c.39.39.9.59 1.41.59.51 0 1.02-.2 1.41-.59l7.78-7.78 2.81-2.81c.8-.78.8-2.07 0-2.86zM5.41 20L4 18.59l7.72-7.72 1.47 1.35L5.41 20z\"/>\n",
              "  </svg>\n",
              "      </button>\n",
              "      \n",
              "  <style>\n",
              "    .colab-df-container {\n",
              "      display:flex;\n",
              "      flex-wrap:wrap;\n",
              "      gap: 12px;\n",
              "    }\n",
              "\n",
              "    .colab-df-convert {\n",
              "      background-color: #E8F0FE;\n",
              "      border: none;\n",
              "      border-radius: 50%;\n",
              "      cursor: pointer;\n",
              "      display: none;\n",
              "      fill: #1967D2;\n",
              "      height: 32px;\n",
              "      padding: 0 0 0 0;\n",
              "      width: 32px;\n",
              "    }\n",
              "\n",
              "    .colab-df-convert:hover {\n",
              "      background-color: #E2EBFA;\n",
              "      box-shadow: 0px 1px 2px rgba(60, 64, 67, 0.3), 0px 1px 3px 1px rgba(60, 64, 67, 0.15);\n",
              "      fill: #174EA6;\n",
              "    }\n",
              "\n",
              "    [theme=dark] .colab-df-convert {\n",
              "      background-color: #3B4455;\n",
              "      fill: #D2E3FC;\n",
              "    }\n",
              "\n",
              "    [theme=dark] .colab-df-convert:hover {\n",
              "      background-color: #434B5C;\n",
              "      box-shadow: 0px 1px 3px 1px rgba(0, 0, 0, 0.15);\n",
              "      filter: drop-shadow(0px 1px 2px rgba(0, 0, 0, 0.3));\n",
              "      fill: #FFFFFF;\n",
              "    }\n",
              "  </style>\n",
              "\n",
              "      <script>\n",
              "        const buttonEl =\n",
              "          document.querySelector('#df-9dbca958-2549-4d67-a7da-683afea78ef6 button.colab-df-convert');\n",
              "        buttonEl.style.display =\n",
              "          google.colab.kernel.accessAllowed ? 'block' : 'none';\n",
              "\n",
              "        async function convertToInteractive(key) {\n",
              "          const element = document.querySelector('#df-9dbca958-2549-4d67-a7da-683afea78ef6');\n",
              "          const dataTable =\n",
              "            await google.colab.kernel.invokeFunction('convertToInteractive',\n",
              "                                                     [key], {});\n",
              "          if (!dataTable) return;\n",
              "\n",
              "          const docLinkHtml = 'Like what you see? Visit the ' +\n",
              "            '<a target=\"_blank\" href=https://colab.research.google.com/notebooks/data_table.ipynb>data table notebook</a>'\n",
              "            + ' to learn more about interactive tables.';\n",
              "          element.innerHTML = '';\n",
              "          dataTable['output_type'] = 'display_data';\n",
              "          await google.colab.output.renderOutput(dataTable, element);\n",
              "          const docLink = document.createElement('div');\n",
              "          docLink.innerHTML = docLinkHtml;\n",
              "          element.appendChild(docLink);\n",
              "        }\n",
              "      </script>\n",
              "    </div>\n",
              "  </div>\n",
              "  "
            ]
          },
          "metadata": {},
          "execution_count": 145
        }
      ]
    },
    {
      "cell_type": "code",
      "source": [
        "data.to_csv('/content/handled_NaN.csv', index=False)"
      ],
      "metadata": {
        "id": "6vqZZPYfQRqt"
      },
      "execution_count": null,
      "outputs": []
    },
    {
      "cell_type": "code",
      "source": [
        ""
      ],
      "metadata": {
        "id": "Azth3sEXREVY"
      },
      "execution_count": null,
      "outputs": []
    }
  ]
}